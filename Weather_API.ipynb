{
  "nbformat": 4,
  "nbformat_minor": 0,
  "metadata": {
    "colab": {
      "provenance": []
    },
    "kernelspec": {
      "name": "python3",
      "display_name": "Python 3"
    },
    "language_info": {
      "name": "python"
    }
  },
  "cells": [
    {
      "cell_type": "markdown",
      "source": [
        "#Name: Pranav Raj\n",
        "\n",
        "#email id: pranav23raj@gmail.com"
      ],
      "metadata": {
        "id": "3m5hSXPuukLJ"
      }
    },
    {
      "cell_type": "markdown",
      "source": [
        "# Weather API\n",
        "\n",
        "To make a weather API using Python, you can use a combination of web scraping and API calls to retrieve the necessary data. Here is a general outline of the steps you can follow:\n",
        "\n",
        "  >Choose a weather API: There are several weather APIs available, including OpenWeatherMap, AccuWeather, and Weather Underground. Choose an API that provides the data you need and create an account to obtain an API key.\n",
        "\n",
        "  >Make an API call: Use the requests library in Python to make an API call to the chosen weather API with your API key and location information.\n",
        "\n",
        ">  Extract the necessary weather data: Once you have received a response from the API, you can extract the necessary weather data from the JSON object. This may include temperature, humidity, wind speed, etc.\n",
        "\n",
        ">  Create a web service: You can create a web service to make the weather data available over the internet. One way to do this is to use the Flask web framework.\n",
        "  This creates a web service with a /weather endpoint that returns the temperature and humidity in JSON format.\n",
        "\n",
        ">  Deploy the web service: You can deploy the web service to a cloud hosting provider, such as Heroku or AWS, so that it can be accessed over the internet.\n",
        "Once deployed, you can make API requests to the web service endpoint to retrieve the weather data. For example, you can make a request to https://your-web-service/weather to retrieve the temperature and humidity in JSON format."
      ],
      "metadata": {
        "id": "9TBM3zh_Oe8c"
      }
    },
    {
      "cell_type": "code",
      "source": [
        "#importing libraries\n",
        "import pandas as pd\n",
        "import json\n",
        "import requests"
      ],
      "metadata": {
        "id": "ZidYdBc3aEtz"
      },
      "execution_count": 99,
      "outputs": []
    },
    {
      "cell_type": "markdown",
      "source": [
        "###San Francisco coordinates:\n",
        "\n",
        "lat={37.7749}&lon={122.4194}"
      ],
      "metadata": {
        "id": "l4NciQHbJhQe"
      }
    },
    {
      "cell_type": "code",
      "source": [
        "#defining function to get user input for coordinates\n",
        "def details():\n",
        "  print(\"Hello I am Tom, your Virtual assistant. \\n Please enter the following details of the city of which you want the weather report of:\")\n",
        "  latitude = float(input(\"\\nEnter latitude: \"))\n",
        "  longitude = float(input(\"Enter longitude: \"))\n",
        "  api_key = \"61af1698a8411428dbccd504aeeb07eb\"\n",
        "  url = f\"https://api.openweathermap.org/data/2.5/weather?lat={latitude}&lon={longitude}&appid={api_key}\"\n",
        "  return(url)"
      ],
      "metadata": {
        "id": "_HEJji8nLTGA"
      },
      "execution_count": 100,
      "outputs": []
    },
    {
      "cell_type": "code",
      "source": [
        "#getting response of user for city details\n",
        "response = requests.get(details())\n",
        "weather_data = response.json()"
      ],
      "metadata": {
        "colab": {
          "base_uri": "https://localhost:8080/",
          "height": 0
        },
        "id": "UCsIlFLBMxLM",
        "outputId": "388da90b-811d-41bc-aa92-69679e6d5f9d"
      },
      "execution_count": 101,
      "outputs": [
        {
          "name": "stdout",
          "output_type": "stream",
          "text": [
            "Hello I am Tom, your Virtual assistant. \n",
            " Please enter the following details of the city of which you want the weather report of:\n",
            "\n",
            "Enter latitude: 37.7749\n",
            "Enter longitude: 122.4194\n"
          ]
        }
      ]
    },
    {
      "cell_type": "code",
      "source": [
        "#data retrieved through search\n",
        "weather_data"
      ],
      "metadata": {
        "colab": {
          "base_uri": "https://localhost:8080/",
          "height": 0
        },
        "id": "mp7seZYUKAkj",
        "outputId": "94e1da27-994d-44a6-f1b3-917b78c287ee"
      },
      "execution_count": 102,
      "outputs": [
        {
          "output_type": "execute_result",
          "data": {
            "text/plain": [
              "{'coord': {'lon': 122.4194, 'lat': 37.7749},\n",
              " 'weather': [{'id': 501,\n",
              "   'main': 'Rain',\n",
              "   'description': 'moderate rain',\n",
              "   'icon': '10n'}],\n",
              " 'base': 'stations',\n",
              " 'main': {'temp': 284.82,\n",
              "  'feels_like': 284.6,\n",
              "  'temp_min': 284.82,\n",
              "  'temp_max': 284.82,\n",
              "  'pressure': 1015,\n",
              "  'humidity': 98,\n",
              "  'sea_level': 1015,\n",
              "  'grnd_level': 1015},\n",
              " 'visibility': 10000,\n",
              " 'wind': {'speed': 7.94, 'deg': 126, 'gust': 14.53},\n",
              " 'rain': {'1h': 2.37},\n",
              " 'clouds': {'all': 100},\n",
              " 'dt': 1683137525,\n",
              " 'sys': {'type': 2,\n",
              "  'id': 2011832,\n",
              "  'country': 'CN',\n",
              "  'sunrise': 1683147122,\n",
              "  'sunset': 1683196931},\n",
              " 'timezone': 28800,\n",
              " 'id': 1791673,\n",
              " 'name': 'Weihai',\n",
              " 'cod': 200}"
            ]
          },
          "metadata": {},
          "execution_count": 102
        }
      ]
    },
    {
      "cell_type": "code",
      "source": [
        "# Serializing json : converting the state of an object, that is, the values of its properties, into a form that can be stored or transmitted\n",
        "json_object = json.dumps(weather_data, indent=4)\n",
        " \n",
        "# Writing to sample.json\n",
        "with open(\"sample.json\", \"w\") as outfile:\n",
        "    outfile.write(json_object)"
      ],
      "metadata": {
        "id": "8qkp0c53RvUD"
      },
      "execution_count": 103,
      "outputs": []
    },
    {
      "cell_type": "code",
      "source": [
        "# Opening JSON file\n",
        "with open('sample.json', 'r') as openfile:\n",
        " \n",
        "    # Reading from json file\n",
        "    json_object = json.load(openfile)\n",
        " \n",
        "print(json_object)\n",
        "print(type(json_object))"
      ],
      "metadata": {
        "colab": {
          "base_uri": "https://localhost:8080/",
          "height": 0
        },
        "id": "dSMvtrU5SAvV",
        "outputId": "58565b46-d750-4215-e1e9-2fe5bac1f5e3"
      },
      "execution_count": 104,
      "outputs": [
        {
          "output_type": "stream",
          "name": "stdout",
          "text": [
            "{'coord': {'lon': 122.4194, 'lat': 37.7749}, 'weather': [{'id': 501, 'main': 'Rain', 'description': 'moderate rain', 'icon': '10n'}], 'base': 'stations', 'main': {'temp': 284.82, 'feels_like': 284.6, 'temp_min': 284.82, 'temp_max': 284.82, 'pressure': 1015, 'humidity': 98, 'sea_level': 1015, 'grnd_level': 1015}, 'visibility': 10000, 'wind': {'speed': 7.94, 'deg': 126, 'gust': 14.53}, 'rain': {'1h': 2.37}, 'clouds': {'all': 100}, 'dt': 1683137525, 'sys': {'type': 2, 'id': 2011832, 'country': 'CN', 'sunrise': 1683147122, 'sunset': 1683196931}, 'timezone': 28800, 'id': 1791673, 'name': 'Weihai', 'cod': 200}\n",
            "<class 'dict'>\n"
          ]
        }
      ]
    },
    {
      "cell_type": "code",
      "source": [
        "#printing values in json_object\n",
        "for keys,values in json_object.items():\n",
        "    print(keys)\n",
        "    print(values)"
      ],
      "metadata": {
        "colab": {
          "base_uri": "https://localhost:8080/",
          "height": 0
        },
        "id": "XVpCA8t-US6Q",
        "outputId": "c6723285-1ee4-4e7f-97f0-cf5731e14ca3"
      },
      "execution_count": 105,
      "outputs": [
        {
          "output_type": "stream",
          "name": "stdout",
          "text": [
            "coord\n",
            "{'lon': 122.4194, 'lat': 37.7749}\n",
            "weather\n",
            "[{'id': 501, 'main': 'Rain', 'description': 'moderate rain', 'icon': '10n'}]\n",
            "base\n",
            "stations\n",
            "main\n",
            "{'temp': 284.82, 'feels_like': 284.6, 'temp_min': 284.82, 'temp_max': 284.82, 'pressure': 1015, 'humidity': 98, 'sea_level': 1015, 'grnd_level': 1015}\n",
            "visibility\n",
            "10000\n",
            "wind\n",
            "{'speed': 7.94, 'deg': 126, 'gust': 14.53}\n",
            "rain\n",
            "{'1h': 2.37}\n",
            "clouds\n",
            "{'all': 100}\n",
            "dt\n",
            "1683137525\n",
            "sys\n",
            "{'type': 2, 'id': 2011832, 'country': 'CN', 'sunrise': 1683147122, 'sunset': 1683196931}\n",
            "timezone\n",
            "28800\n",
            "id\n",
            "1791673\n",
            "name\n",
            "Weihai\n",
            "cod\n",
            "200\n"
          ]
        }
      ]
    },
    {
      "cell_type": "code",
      "source": [
        "try:\n",
        "    Latitude = json_object['coord']['lat']\n",
        "    Longitude = json_object['coord']['lon']\n",
        "    Weather = json_object['weather'][0]['main']\n",
        "    Wea_des = json_object['weather'][0]['description']\n",
        "    temperature = json_object['main']['temp']\n",
        "    feels = json_object['main']['feels_like']\n",
        "    min_temp = json_object['main']['temp_min']\n",
        "    max_temp = json_object['main']['temp_max']\n",
        "    air_pressure = json_object['main']['pressure']\n",
        "    humidity = json_object['main']['humidity']\n",
        "    wind_speed = json_object['wind']['speed']\n",
        "    wind_dir = json_object['wind']['deg']\n",
        "    sunrise = json_object['sys']['sunrise']\n",
        "    sunset = json_object['sys']['sunset']\n",
        "    print(f\"Weather: {Weather}, Wea_des: {Wea_des}\")\n",
        "except KeyError:\n",
        "  print(f\"Unexpected JSON format: {json_object}\")\n",
        "  print(KeyError)"
      ],
      "metadata": {
        "colab": {
          "base_uri": "https://localhost:8080/",
          "height": 0
        },
        "id": "u-PiKBVEUiW0",
        "outputId": "c4049052-57fc-4d52-cd76-d293f077b488"
      },
      "execution_count": 106,
      "outputs": [
        {
          "output_type": "stream",
          "name": "stdout",
          "text": [
            "Weather: Rain, Wea_des: moderate rain\n"
          ]
        }
      ]
    },
    {
      "cell_type": "code",
      "source": [
        "report_ele = {'Latitude' : Latitude, 'Longitude':Longitude, 'Weather':Weather, 'Wea_des':Wea_des, 'temperature':temperature, \n",
        "              'feels':feels, 'min_temp':min_temp, 'max_temp':max_temp, 'air_pressure':air_pressure, 'humidity':humidity, \n",
        "              'wind_speed':wind_speed, 'wind_dir':wind_dir, 'sunrise':sunrise, 'sunset':sunset}"
      ],
      "metadata": {
        "id": "6gG7vqZJpyla"
      },
      "execution_count": 107,
      "outputs": []
    },
    {
      "cell_type": "code",
      "source": [
        "for item in report_ele:\n",
        "  print(item,':', report_ele[item])"
      ],
      "metadata": {
        "colab": {
          "base_uri": "https://localhost:8080/",
          "height": 0
        },
        "id": "vJi6mqG5rq_C",
        "outputId": "9aa466be-bfc0-455f-c7fd-bc1e8bf70bfd"
      },
      "execution_count": 108,
      "outputs": [
        {
          "output_type": "stream",
          "name": "stdout",
          "text": [
            "Latitude : 37.7749\n",
            "Longitude : 122.4194\n",
            "Weather : Rain\n",
            "Wea_des : moderate rain\n",
            "temperature : 284.82\n",
            "feels : 284.6\n",
            "min_temp : 284.82\n",
            "max_temp : 284.82\n",
            "air_pressure : 1015\n",
            "humidity : 98\n",
            "wind_speed : 7.94\n",
            "wind_dir : 126\n",
            "sunrise : 1683147122\n",
            "sunset : 1683196931\n"
          ]
        }
      ]
    },
    {
      "cell_type": "markdown",
      "source": [
        "#To Be Continued"
      ],
      "metadata": {
        "id": "ZbRHkqbfuX5T"
      }
    },
    {
      "cell_type": "code",
      "source": [
        "from flask import Flask, jsonify\n",
        "\n",
        "app = Flask(__name__)\n",
        "\n",
        "@app.route('/weather')\n",
        "def get_weather():\n",
        "    api_key = \"61af1698a8411428dbccd504aeeb07eb\"\n",
        "    url = f\"http://api.openweathermap.org/data/2.5/weather?q=London&appid={api_key}\"\n",
        "    response = requests.get(url)\n",
        "    weather_data = response.json()\n",
        "    temperature = weather_data['main']['temp']\n",
        "    humidity = weather_data['main']['humidity']\n",
        "    return jsonify({'temperature': temperature, 'humidity': humidity})\n",
        "\n",
        "if __name__ == '__main__':\n",
        "    app.run()"
      ],
      "metadata": {
        "colab": {
          "base_uri": "https://localhost:8080/",
          "height": 0
        },
        "id": "ijM1C7vLPJRb",
        "outputId": "9e6d2c62-2fe7-406f-909d-357f626e0d40"
      },
      "execution_count": 23,
      "outputs": [
        {
          "output_type": "stream",
          "name": "stdout",
          "text": [
            " * Serving Flask app '__main__'\n",
            " * Debug mode: off\n"
          ]
        },
        {
          "output_type": "stream",
          "name": "stderr",
          "text": [
            "INFO:werkzeug:\u001b[31m\u001b[1mWARNING: This is a development server. Do not use it in a production deployment. Use a production WSGI server instead.\u001b[0m\n",
            " * Running on http://127.0.0.1:5000\n",
            "INFO:werkzeug:\u001b[33mPress CTRL+C to quit\u001b[0m\n"
          ]
        }
      ]
    },
    {
      "cell_type": "code",
      "source": [],
      "metadata": {
        "id": "36HVeyzqQDkN"
      },
      "execution_count": null,
      "outputs": []
    }
  ]
}